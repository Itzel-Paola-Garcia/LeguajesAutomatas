{
 "cells": [
  {
   "cell_type": "markdown",
   "metadata": {},
   "source": [
    "# Práctica de bot\n",
    "\n",
    "El bot presentado abajo, trabaja de la siguiente manera, una vez inicializado el bot, se le pide al usuario su nombre para comenzar el formulario, seguido de eso se le pregunta en donde se quiere inscribir (danza, música o dibujo) y cuando obtiene la respuesta le manda el mensaje pidiendole su número de telefono, una vez concluido esto, le agradece y le dice que espere una llamada pronto.\n"
   ]
  },
  {
   "cell_type": "markdown",
   "metadata": {},
   "source": [
    "![Imagen del bot1](bot_1.png)\n",
    "![Imagen del bot2](bot_2.png)\n",
    "![Imagen del bot3](bot_3.png)"
   ]
  },
  {
   "cell_type": "markdown",
   "metadata": {},
   "source": [
    "\n",
    "\n",
    "Código:"
   ]
  },
  {
   "cell_type": "code",
   "execution_count": null,
   "metadata": {},
   "outputs": [],
   "source": [
    "import logging\n",
    "import re\n",
    "\n",
    "from telegram import ForceReply, Update\n",
    "from telegram.ext import Application, CommandHandler, ContextTypes, MessageHandler, filters\n",
    "\n",
    "# Enable logging\n",
    "logging.basicConfig(format=\"%(asctime)s - %(name)s - %(levelname)s - %(message)s\", level=logging.INFO)\n",
    "logging.getLogger(\"httpx\").setLevel(logging.WARNING)\n",
    "logger = logging.getLogger(__name__)\n",
    "\n",
    "# Expresiones regulares\n",
    "expresion_saludo = re.compile(r\"hello|hi|hey|hola\", re.IGNORECASE)\n",
    "expresion_nombre = re.compile(r\"^\\w+\\s(\\w+)?$\", re.IGNORECASE)\n",
    "expresion_arte = re.compile(r\"[danza|música|dibujo]\",re.IGNORECASE)\n",
    "expresion_telefono = re.compile(r\"\\d{3}[\\s.-]\\d{3}[\\s.-]\\d{4}\")\n",
    "\n",
    "\n",
    "async def start(update: Update, context: ContextTypes.DEFAULT_TYPE) -> None:\n",
    "    \"\"\"Send a message when the command /start is issued.\"\"\"\n",
    "    user = update.effective_user\n",
    "    await update.message.reply_html(\n",
    "        rf\"Hi {user.mention_html()}!\",\n",
    "        reply_markup=ForceReply(selective=True),\n",
    "    )\n",
    "\n",
    "\n",
    "async def help_command(update: Update, context: ContextTypes.DEFAULT_TYPE) -> None:\n",
    "    \"\"\"Send a message when the command /help is issued.\"\"\"\n",
    "    await update.message.reply_text(\"Help!\")\n",
    "\n",
    "\n",
    "async def echo(update: Update, context: ContextTypes.DEFAULT_TYPE) -> None:\n",
    "    \"\"\"Echo the user message if it matches any regular expression.\"\"\"\n",
    "    message_text = update.message.text\n",
    "    if expresion_saludo.search(message_text):\n",
    "        await update.message.reply_text(\"¡Hola! Proporcionanos tu nombre para empezar el formulario \")\n",
    "    elif expresion_nombre.search(message_text):\n",
    "        await update.message.reply_text(\"Perfecto!. ¿A que área deseas incribirte? Danza, Música o Dibujo?\")\n",
    "    elif expresion_arte.search(message_text):\n",
    "        await update.message.reply_text(f\"Muy bien hemos guardado tu respuesta, porfavor dinos tu número de telefono (000-000-0000)\")\n",
    "    elif expresion_telefono.search(message_text):\n",
    "        await update.message.reply_text(f\"Tu número a sido registrado, espera nuestra llamada pronto\")\n",
    "    else:\n",
    "        await update.message.reply_text(\"No entendí tu mensaje.\")\n",
    "\n",
    "\n",
    "def main() -> None:\n",
    "    \"\"\"Start the bot.\"\"\"\n",
    "    application = Application.builder().token(\"7018765882:AAHsb9DZhambEtZ8jG9D5Ukrcfipt9zW8Uo\").build()\n",
    "\n",
    "    application.add_handler(CommandHandler(\"start\", start))\n",
    "    application.add_handler(CommandHandler(\"help\", help_command))\n",
    "    application.add_handler(MessageHandler(filters.TEXT & ~filters.COMMAND, echo))\n",
    "\n",
    "    application.run_polling(allowed_updates=Update.ALL_TYPES)\n",
    "\n",
    "\n",
    "if __name__ == \"__main__\":\n",
    "    main()"
   ]
  }
 ],
 "metadata": {
  "language_info": {
   "name": "python"
  }
 },
 "nbformat": 4,
 "nbformat_minor": 2
}
